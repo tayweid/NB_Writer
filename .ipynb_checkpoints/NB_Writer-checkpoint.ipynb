{
 "cells": [
  {
   "cell_type": "code",
   "execution_count": 5,
   "metadata": {},
   "outputs": [
    {
     "name": "stdout",
     "output_type": "stream",
     "text": [
      "images/simple_figure.png\n"
     ]
    }
   ],
   "source": [
    "from NB_Writer import *\n",
    "\n",
    "NB_Write('test', 'New Test Title')\n",
    "Syllabus('Game Theory Principles', 'Spring 2024')\n"
   ]
  },
  {
   "cell_type": "code",
   "execution_count": 11,
   "metadata": {},
   "outputs": [],
   "source": [
    "with open('test.ipynb', 'r') as f:\n",
    "    nb_json = json.load(f)"
   ]
  },
  {
   "cell_type": "code",
   "execution_count": 21,
   "metadata": {},
   "outputs": [
    {
     "data": {
      "text/plain": [
       "['- Unordered list\\n', '- second element\\n']"
      ]
     },
     "execution_count": 21,
     "metadata": {},
     "output_type": "execute_result"
    }
   ],
   "source": [
    "test = nb_json['cells'][3]['source']\n",
    "test"
   ]
  },
  {
   "cell_type": "code",
   "execution_count": 46,
   "metadata": {},
   "outputs": [
    {
     "name": "stdout",
     "output_type": "stream",
     "text": [
      "- Unordered list\n",
      "- second element\n",
      "\n",
      "Unordered list\n",
      "- second element\n",
      "\n",
      "\\begin{itemize}\\n\\item Unordered list\n",
      "\n",
      "- second element\n",
      "\n"
     ]
    }
   ],
   "source": [
    "cell = ''.join(test)\n",
    "tex = ''\n",
    "print(cell)\n",
    "if '- ' in cell:\n",
    "    cells = cell.split('- ', 1)\n",
    "    tex = tex + cells[0] + r'\\begin{itemize}\\n\\item '\n",
    "\n",
    "    print(cells[1])\n",
    "    cells = cells[1].split('\\n', 1)\n",
    "    tex = tex + cells[0] + '\\n'\n",
    "    print(tex)\n",
    "\n",
    "    print(cells[1])\n",
    "\n",
    "    if cells[1][0:2] != '- ':\n",
    "        \n",
    "        #print(tex)\n",
    "        tex = tex + r'\\end{itemize}\\n' + cells[1]\n",
    "        cells = cells[1].split('\\n', 1)\n"
   ]
  }
 ],
 "metadata": {
  "kernelspec": {
   "display_name": "base",
   "language": "python",
   "name": "python3"
  },
  "language_info": {
   "codemirror_mode": {
    "name": "ipython",
    "version": 3
   },
   "file_extension": ".py",
   "mimetype": "text/x-python",
   "name": "python",
   "nbconvert_exporter": "python",
   "pygments_lexer": "ipython3",
   "version": "3.11.7"
  }
 },
 "nbformat": 4,
 "nbformat_minor": 2
}

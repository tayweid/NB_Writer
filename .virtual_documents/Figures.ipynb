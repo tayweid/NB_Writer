


import numpy as np
import matplotlib.pyplot as plt

# Plot mixed strategies

# make the font serif
plt.rcParams['font.family'] = 'serif'
# make the font size 10
plt.rcParams.update({'font.size': 12})

fig, axes = plt.subplots(1,3, figsize=(10, 3), dpi=300)

axes[0].axis('off')
axes[2].axis('off')

# Plot Player 1's pure strategies
axes[1].text(0, -0.2, 'L', ha='center', va='top')
axes[1].text(1, -0.2, 'R', ha='center', va='top')

# Plot Player 2's pure strategies
axes[1].text(-0.2, 0, 'D', ha='right', va='center')
axes[1].text(-0.05, 1/2, 'y', ha='right', va='center')
axes[1].text(-0.2, 1, 'U', ha='right', va='center')
axes[1].text(1/2,-0.05, 'x', ha='center', va='top')

axes[1].set_xlabel("Player 2")
axes[1].set_ylabel("Player 1")
axes[1].grid(False)
axes[1].set_xlim(0, 1)
axes[1].set_ylim(0, 1)
axes[1].set_xticks([0, 1], ['0', '1'])
axes[1].set_yticks([0, 1], ['0', '1'])

plt.savefig('Images/mixed_strategy_graph.png', bbox_inches='tight')


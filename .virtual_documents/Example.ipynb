from NB_Writer import *

Exam('ECON 0200', 'Example', 'Monday, April 22', ME=False, keep=False)























# NB_Writer: \includegraphics[width=\textwidth]
Image('Images/mixed_strategy_graph.png')


















